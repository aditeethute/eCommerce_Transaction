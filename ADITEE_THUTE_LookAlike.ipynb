{
  "nbformat": 4,
  "nbformat_minor": 0,
  "metadata": {
    "colab": {
      "provenance": []
    },
    "kernelspec": {
      "name": "python3",
      "display_name": "Python 3"
    },
    "language_info": {
      "name": "python"
    }
  },
  "cells": [
    {
      "cell_type": "markdown",
      "source": [
        "**LOOKALIKE MODEL CODE**"
      ],
      "metadata": {
        "id": "KVebDaIbybKh"
      }
    },
    {
      "cell_type": "markdown",
      "source": [
        "•\tDATA LOADING\n",
        "Data was loaded from the given URLs with the help of pandas. These datasets serves as the foundation for constructing the lookalike model by providing data:"
      ],
      "metadata": {
        "id": "1hMRbIMLrrLc"
      }
    },
    {
      "cell_type": "code",
      "source": [
        "import pandas as pd\n",
        "import numpy as np\n",
        "from sklearn.metrics.pairwise import cosine_similarity"
      ],
      "metadata": {
        "id": "Iztxoq28yf8L"
      },
      "execution_count": null,
      "outputs": []
    },
    {
      "cell_type": "code",
      "source": [
        "customers_url = \"https://drive.google.com/uc?id=1bu_--mo79VdUG9oin4ybfFGRUSXAe-WE\"\n",
        "products_url = \"https://drive.google.com/uc?id=1IKuDizVapw-hyktwfpoAoaGtHtTNHfd0\"\n",
        "transactions_url = \"https://drive.google.com/uc?id=1saEqdbBB-vuk2hxoAf4TzDEsykdKlzbF\"\n",
        "customers = pd.read_csv(customers_url)\n",
        "products = pd.read_csv(products_url)\n",
        "transactions = pd.read_csv(transactions_url)"
      ],
      "metadata": {
        "id": "LxLJtNJnykjp"
      },
      "execution_count": null,
      "outputs": []
    },
    {
      "cell_type": "markdown",
      "source": [
        "\n",
        "•\tDATA MERGING\n",
        "For developing a lookalike model we will need all the data in one dataset, so here we create a comprehensive dataset, ‘data’ by merging transactions with customer and product datasets on ‘CustomerID’ and ‘ProductID’:\n"
      ],
      "metadata": {
        "id": "q_P8qNmur2Rv"
      }
    },
    {
      "cell_type": "code",
      "source": [
        "# datasets Merging\n",
        "data = transactions.merge(customers, on='CustomerID').merge(products, on='ProductID')"
      ],
      "metadata": {
        "id": "Jq0fsl7lr_j1"
      },
      "execution_count": null,
      "outputs": []
    },
    {
      "cell_type": "markdown",
      "source": [
        "•\tCUSTOMER PRODUCT MATRIX\n",
        "A pivot table was created to represent the transaction values between customers and products. This serves as the foundation for computing customer similarity:\n"
      ],
      "metadata": {
        "id": "tAq3wTo9sFgI"
      }
    },
    {
      "cell_type": "code",
      "source": [
        "# customer-product matrix\n",
        "customer_product_matrix = data.pivot_table(index='CustomerID', columns='ProductID', values='TotalValue', aggfunc='sum').fillna(0)"
      ],
      "metadata": {
        "id": "-SYD5__Uyuof"
      },
      "execution_count": null,
      "outputs": []
    },
    {
      "cell_type": "markdown",
      "source": [
        "This matrix represents each customer as a vector of their spending across different products. It is crucial for calculating similarities as it aligns customers in a structured format based on their purchasing behavior."
      ],
      "metadata": {
        "id": "sAKL7bVTsRwx"
      }
    },
    {
      "cell_type": "markdown",
      "source": [
        "•\tNORMALIZATION\n",
        "Each customer's transaction data was normalized by dividing each value by the sum of the row to account for differences in total spending:\n"
      ],
      "metadata": {
        "id": "vAlYY6susVte"
      }
    },
    {
      "cell_type": "code",
      "source": [
        "# Normalize data\n",
        "normalized_matrix = customer_product_matrix.div(customer_product_matrix.sum(axis=1), axis=0)"
      ],
      "metadata": {
        "id": "o1qNqcz1sM0b"
      },
      "execution_count": null,
      "outputs": []
    },
    {
      "cell_type": "markdown",
      "source": [
        "Customers with higher spending would otherwise dominate similarity calculations. Normalization ensures that the focus is on purchasing patterns rather than absolute spending."
      ],
      "metadata": {
        "id": "UD5AnTbGsdae"
      }
    },
    {
      "cell_type": "markdown",
      "source": [
        "•\tCOSINE SIMILARITY COMPUTATION\n",
        "Cosine similarity was calculated to measure the similarity between customer vectors:\n"
      ],
      "metadata": {
        "id": "KxzYvELLsZr0"
      }
    },
    {
      "cell_type": "code",
      "source": [
        "# Computing cosine similarity\n",
        "similarity_matrix = cosine_similarity(normalized_matrix)\n",
        "similarity_df = pd.DataFrame(similarity_matrix, index=normalized_matrix.index, columns=normalized_matrix.index)"
      ],
      "metadata": {
        "id": "YaT2rU5Ry0Aw"
      },
      "execution_count": null,
      "outputs": []
    },
    {
      "cell_type": "markdown",
      "source": [
        "It is ideal for high-dimensional data and focuses on the angle between vectors, making it suitable for comparing patterns of purchasing behavior regardless of magnitude."
      ],
      "metadata": {
        "id": "evhsGXrUsiNR"
      }
    },
    {
      "cell_type": "markdown",
      "source": [
        "•\tGENERATING THE SIMILAR CUSTOMERS\n",
        "For the first 20 customers (CustomerIDs C0001 - C0020), the top 3 most similar customers were identified:\n"
      ],
      "metadata": {
        "id": "ouC-70dCsk_I"
      }
    },
    {
      "cell_type": "code",
      "source": [
        "# Get top 3 similar customers for each of the first 20 customers\n",
        "lookalike_results = {}\n",
        "\n",
        "for customer_id in similarity_df.index[:20]:\n",
        "    similar_customers = similarity_df.loc[customer_id].sort_values(ascending=False).iloc[1:4]\n",
        "    lookalike_results[customer_id] = [(sim_id, round(score, 2)) for sim_id, score in similar_customers.items()]"
      ],
      "metadata": {
        "colab": {
          "base_uri": "https://localhost:8080/"
        },
        "id": "faYP1szky2XK",
        "outputId": "e64c932b-7cb5-4432-e8e0-33093d19c9cd"
      },
      "execution_count": null,
      "outputs": [
        {
          "output_type": "stream",
          "name": "stdout",
          "text": [
            "   CustomerID SimilarCustomerID  Score\n",
            "0       C0001             C0050   0.53\n",
            "1       C0001             C0100   0.53\n",
            "2       C0001             C0105   0.52\n",
            "3       C0002             C0109   0.54\n",
            "4       C0002             C0079   0.53\n",
            "5       C0002             C0117   0.52\n",
            "6       C0003             C0181   0.62\n",
            "7       C0003             C0186   0.56\n",
            "8       C0003             C0067   0.55\n",
            "9       C0004             C0063   0.46\n",
            "10      C0004             C0070   0.44\n",
            "11      C0004             C0076   0.38\n",
            "12      C0005             C0096   0.67\n",
            "13      C0005             C0192   0.64\n",
            "14      C0005             C0072   0.63\n",
            "15      C0006             C0058   0.68\n",
            "16      C0006             C0040   0.66\n",
            "17      C0006             C0046   0.43\n",
            "18      C0007             C0020   0.58\n",
            "19      C0007             C0031   0.44\n",
            "20      C0007             C0079   0.42\n",
            "21      C0008             C0165   0.48\n",
            "22      C0008             C0169   0.42\n",
            "23      C0008             C0143   0.38\n",
            "24      C0009             C0140   0.79\n",
            "25      C0009             C0156   0.72\n",
            "26      C0009             C0112   0.71\n",
            "27      C0010             C0029   0.89\n",
            "28      C0010             C0092   0.87\n",
            "29      C0010             C0083   0.84\n",
            "30      C0011             C0135   0.60\n",
            "31      C0011             C0173   0.42\n",
            "32      C0011             C0108   0.37\n",
            "33      C0012             C0164   0.69\n",
            "34      C0012             C0173   0.63\n",
            "35      C0012             C0128   0.62\n",
            "36      C0013             C0058   0.56\n",
            "37      C0013             C0040   0.54\n",
            "38      C0013             C0131   0.49\n",
            "39      C0014             C0128   0.57\n",
            "40      C0014             C0159   0.44\n",
            "41      C0014             C0136   0.32\n",
            "42      C0015             C0073   0.55\n",
            "43      C0015             C0036   0.47\n",
            "44      C0015             C0179   0.45\n",
            "45      C0016             C0052   0.67\n",
            "46      C0016             C0064   0.67\n",
            "47      C0016             C0187   0.66\n",
            "48      C0017             C0146   0.49\n",
            "49      C0017             C0147   0.38\n",
            "50      C0017             C0046   0.37\n",
            "51      C0018             C0059   0.37\n",
            "52      C0018             C0115   0.36\n",
            "53      C0018             C0177   0.35\n",
            "54      C0019             C0064   0.64\n",
            "55      C0019             C0049   0.57\n",
            "56      C0019             C0084   0.45\n",
            "57      C0020             C0026   0.65\n",
            "58      C0020             C0007   0.58\n",
            "59      C0020             C0119   0.56\n"
          ]
        }
      ]
    },
    {
      "cell_type": "markdown",
      "source": [
        "•\tSAVING THE RESULT"
      ],
      "metadata": {
        "id": "dSHuphMtsytS"
      }
    },
    {
      "cell_type": "code",
      "source": [
        "# Save to CSV\n",
        "lookalike_df = pd.DataFrame(\n",
        "    [(cust, *sim) for cust, sims in lookalike_results.items() for sim in sims],\n",
        "    columns=['CustomerID', 'SimilarCustomerID', 'Score']\n",
        ")\n",
        "lookalike_df.to_csv('FirstName_LastName_Lookalike.csv', index=False)\n",
        "# Show some of the results\n",
        "print(lookalike_df)"
      ],
      "metadata": {
        "id": "k_cISXAWsrxs"
      },
      "execution_count": null,
      "outputs": []
    }
  ]
}